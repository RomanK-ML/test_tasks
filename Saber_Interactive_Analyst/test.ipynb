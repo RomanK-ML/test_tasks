{
 "cells": [
  {
   "cell_type": "markdown",
   "source": [
    "# history\n",
    "issue_key – уникальный ключ задачи\n",
    "status – статус задачи\n",
    "minutes_in_status – количество минут, которое задача находилась в статусе\n",
    "previous_status – предыдущий статус задачи\n",
    "started_at – время создания статуса задачи, unix миллисекунды\n",
    "ended_at – время перехода задачи в другой статус, unix миллисекунды\n"
   ],
   "metadata": {
    "collapsed": false,
    "pycharm": {
     "name": "#%% md\n"
    }
   }
  },
  {
   "cell_type": "code",
   "execution_count": 1,
   "outputs": [],
   "source": [
    "import pandas as pd\n",
    "import numpy as np\n",
    "import sqlite3\n",
    "import os"
   ],
   "metadata": {
    "collapsed": false,
    "pycharm": {
     "name": "#%%\n"
    }
   }
  },
  {
   "cell_type": "code",
   "execution_count": 2,
   "outputs": [
    {
     "data": {
      "text/plain": "'3.37.2'"
     },
     "execution_count": 2,
     "metadata": {},
     "output_type": "execute_result"
    }
   ],
   "source": [
    "sqlite3.sqlite_version"
   ],
   "metadata": {
    "collapsed": false,
    "pycharm": {
     "name": "#%%\n"
    }
   }
  },
  {
   "cell_type": "code",
   "execution_count": 3,
   "outputs": [
    {
     "name": "stdout",
     "output_type": "stream",
     "text": [
      "      issue_key       status  minutes_in_status previous_status  \\\n",
      "0       C-40460         Open              113.0            None   \n",
      "1       C-40460  In Progress             6289.0            Open   \n",
      "2       C-40460    In Review             2484.0     In Progress   \n",
      "3        B-7067       Closed                NaN            Test   \n",
      "4        B-6168  In Progress              187.0            Open   \n",
      "...         ...          ...                ...             ...   \n",
      "11555    E-5945  In Progress             9987.0            Open   \n",
      "11556    E-5945    In Review            15347.0     In Progress   \n",
      "11557    E-5945       In Owl                0.0       In Review   \n",
      "11558    E-5945     Resolved              599.0          In Owl   \n",
      "11559    E-5945       Closed                NaN        Resolved   \n",
      "\n",
      "          started_at      ended_at  \n",
      "0      1669363867000  1.669371e+12  \n",
      "1      1669370640119  1.669748e+12  \n",
      "2      1669747964986  1.669897e+12  \n",
      "3      1668583633246           NaN  \n",
      "4      1655891591619  1.655903e+12  \n",
      "...              ...           ...  \n",
      "11555  1594018366000  1.594618e+12  \n",
      "11556  1594617572000  1.595538e+12  \n",
      "11557  1595538391000  1.595538e+12  \n",
      "11558  1595538395000  1.595574e+12  \n",
      "11559  1595574308000           NaN  \n",
      "\n",
      "[11560 rows x 6 columns]\n"
     ]
    }
   ],
   "source": [
    "sqlite3_conn = sqlite3.connect(\"test.db\")\n",
    "sqlite3_result = pd.read_sql('''SELECT * FROM history''', sqlite3_conn)\n",
    "\n",
    "print(sqlite3_result)"
   ],
   "metadata": {
    "collapsed": false,
    "pycharm": {
     "name": "#%%\n"
    }
   }
  },
  {
   "cell_type": "markdown",
   "source": [
    "# SQL1"
   ],
   "metadata": {
    "collapsed": false,
    "pycharm": {
     "name": "#%% md\n"
    }
   }
  },
  {
   "cell_type": "code",
   "execution_count": 4,
   "outputs": [
    {
     "data": {
      "text/plain": "1378"
     },
     "execution_count": 4,
     "metadata": {},
     "output_type": "execute_result"
    }
   ],
   "source": [
    "sqlite3_result[\"minutes_in_status\"].isna().sum()"
   ],
   "metadata": {
    "collapsed": false,
    "pycharm": {
     "name": "#%%\n"
    }
   }
  },
  {
   "cell_type": "code",
   "execution_count": 43,
   "outputs": [
    {
     "data": {
      "text/plain": "  group  hours_in_status_open\n0     A                247.15\n1     B                281.51\n2     C                595.62\n3     D                823.03\n4     E                817.94",
      "text/html": "<div>\n<style scoped>\n    .dataframe tbody tr th:only-of-type {\n        vertical-align: middle;\n    }\n\n    .dataframe tbody tr th {\n        vertical-align: top;\n    }\n\n    .dataframe thead th {\n        text-align: right;\n    }\n</style>\n<table border=\"1\" class=\"dataframe\">\n  <thead>\n    <tr style=\"text-align: right;\">\n      <th></th>\n      <th>group</th>\n      <th>hours_in_status_open</th>\n    </tr>\n  </thead>\n  <tbody>\n    <tr>\n      <th>0</th>\n      <td>A</td>\n      <td>247.15</td>\n    </tr>\n    <tr>\n      <th>1</th>\n      <td>B</td>\n      <td>281.51</td>\n    </tr>\n    <tr>\n      <th>2</th>\n      <td>C</td>\n      <td>595.62</td>\n    </tr>\n    <tr>\n      <th>3</th>\n      <td>D</td>\n      <td>823.03</td>\n    </tr>\n    <tr>\n      <th>4</th>\n      <td>E</td>\n      <td>817.94</td>\n    </tr>\n  </tbody>\n</table>\n</div>"
     },
     "execution_count": 43,
     "metadata": {},
     "output_type": "execute_result"
    }
   ],
   "source": [
    "SQL1_query = '''\n",
    "SELECT history_sort.\"group\",\n",
    "round(avg(history_sort.minutes_in_status/60.00), 2) as hours_in_status_open\n",
    "FROM\n",
    "(SELECT history.issue_key, SUM(CASE WHEN history.minutes_in_status != 'NaN' THEN history.minutes_in_status ELSE 0 END) as minutes_in_status, SUBSTRING (history.issue_key, 1, 1) as \"group\"\n",
    "FROM history\n",
    "WHERE history.status = 'Open'\n",
    "GROUP BY history.issue_key\n",
    ") as history_sort\n",
    "GROUP BY history_sort.\"group\"\n",
    "'''\n",
    "\n",
    "SQL1_result = pd.read_sql(SQL1_query, sqlite3_conn)\n",
    "SQL1_result"
   ],
   "metadata": {
    "collapsed": false,
    "pycharm": {
     "name": "#%%\n"
    }
   }
  },
  {
   "cell_type": "markdown",
   "source": [
    "# SQL2"
   ],
   "metadata": {
    "collapsed": false,
    "pycharm": {
     "name": "#%% md\n"
    }
   }
  },
  {
   "cell_type": "code",
   "execution_count": 42,
   "outputs": [
    {
     "data": {
      "text/plain": "   issue_key                   status         time_created\n0    A-28782  Waiting for integration  2020-12-15 11:42:56\n1    A-30600  Waiting for integration  2021-02-16 14:49:43\n2    A-31053                     Open  2020-10-21 15:08:13\n3    A-31353  Waiting for integration  2021-03-26 06:48:04\n4    A-31573  Waiting for integration  2021-04-15 13:29:39\n..       ...                      ...                  ...\n59    D-3730                   In Owl  2021-08-31 12:34:12\n60    D-3852              In Progress  2021-10-05 12:57:11\n61    D-3968                   In Owl  2021-10-22 10:57:17\n62    D-4352                   In Owl  2021-12-21 10:17:39\n63       D-8                     Open  2019-12-27 11:34:47\n\n[64 rows x 3 columns]",
      "text/html": "<div>\n<style scoped>\n    .dataframe tbody tr th:only-of-type {\n        vertical-align: middle;\n    }\n\n    .dataframe tbody tr th {\n        vertical-align: top;\n    }\n\n    .dataframe thead th {\n        text-align: right;\n    }\n</style>\n<table border=\"1\" class=\"dataframe\">\n  <thead>\n    <tr style=\"text-align: right;\">\n      <th></th>\n      <th>issue_key</th>\n      <th>status</th>\n      <th>time_created</th>\n    </tr>\n  </thead>\n  <tbody>\n    <tr>\n      <th>0</th>\n      <td>A-28782</td>\n      <td>Waiting for integration</td>\n      <td>2020-12-15 11:42:56</td>\n    </tr>\n    <tr>\n      <th>1</th>\n      <td>A-30600</td>\n      <td>Waiting for integration</td>\n      <td>2021-02-16 14:49:43</td>\n    </tr>\n    <tr>\n      <th>2</th>\n      <td>A-31053</td>\n      <td>Open</td>\n      <td>2020-10-21 15:08:13</td>\n    </tr>\n    <tr>\n      <th>3</th>\n      <td>A-31353</td>\n      <td>Waiting for integration</td>\n      <td>2021-03-26 06:48:04</td>\n    </tr>\n    <tr>\n      <th>4</th>\n      <td>A-31573</td>\n      <td>Waiting for integration</td>\n      <td>2021-04-15 13:29:39</td>\n    </tr>\n    <tr>\n      <th>...</th>\n      <td>...</td>\n      <td>...</td>\n      <td>...</td>\n    </tr>\n    <tr>\n      <th>59</th>\n      <td>D-3730</td>\n      <td>In Owl</td>\n      <td>2021-08-31 12:34:12</td>\n    </tr>\n    <tr>\n      <th>60</th>\n      <td>D-3852</td>\n      <td>In Progress</td>\n      <td>2021-10-05 12:57:11</td>\n    </tr>\n    <tr>\n      <th>61</th>\n      <td>D-3968</td>\n      <td>In Owl</td>\n      <td>2021-10-22 10:57:17</td>\n    </tr>\n    <tr>\n      <th>62</th>\n      <td>D-4352</td>\n      <td>In Owl</td>\n      <td>2021-12-21 10:17:39</td>\n    </tr>\n    <tr>\n      <th>63</th>\n      <td>D-8</td>\n      <td>Open</td>\n      <td>2019-12-27 11:34:47</td>\n    </tr>\n  </tbody>\n</table>\n<p>64 rows × 3 columns</p>\n</div>"
     },
     "execution_count": 42,
     "metadata": {},
     "output_type": "execute_result"
    }
   ],
   "source": [
    "date_from = pd.Timestamp(\"2019-01-31 12:00:00\")\n",
    "date_to = pd.Timestamp(\"2021-12-31 12:00:00\")\n",
    "\n",
    "SQL2_query = f'''\n",
    "SELECT issue_key, status, datetime(started_at / 1000, 'unixepoch') as time_created\n",
    "FROM history\n",
    "WHERE status NOT IN ('Closed', 'Resolved')\n",
    "  AND time_created >= '{date_from}'\n",
    "  AND time_created <= '{date_to}'\n",
    "  AND (ended_at IS NULL OR ended_at = (\n",
    "      SELECT MAX(ended_at)\n",
    "      FROM history as h2\n",
    "      WHERE h2.issue_key = history.issue_key\n",
    "  ))\n",
    "GROUP BY issue_key\n",
    "'''\n",
    "\n",
    "SQL2_result = pd.read_sql(SQL2_query, sqlite3_conn)\n",
    "SQL2_result"
   ],
   "metadata": {
    "collapsed": false,
    "pycharm": {
     "name": "#%%\n"
    }
   }
  }
 ],
 "metadata": {
  "kernelspec": {
   "display_name": "Python 3",
   "language": "python",
   "name": "python3"
  },
  "language_info": {
   "codemirror_mode": {
    "name": "ipython",
    "version": 2
   },
   "file_extension": ".py",
   "mimetype": "text/x-python",
   "name": "python",
   "nbconvert_exporter": "python",
   "pygments_lexer": "ipython2",
   "version": "2.7.6"
  }
 },
 "nbformat": 4,
 "nbformat_minor": 0
}